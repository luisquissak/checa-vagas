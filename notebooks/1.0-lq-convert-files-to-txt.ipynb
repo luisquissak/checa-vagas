{
 "cells": [
  {
   "cell_type": "markdown",
   "metadata": {},
   "source": [
    "## Converter arquivos para texto"
   ]
  },
  {
   "cell_type": "markdown",
   "metadata": {},
   "source": [
    "### Imports e Constantes"
   ]
  },
  {
   "cell_type": "code",
   "execution_count": 29,
   "metadata": {},
   "outputs": [],
   "source": [
    "from os import listdir\n",
    "from os.path import isfile, join\n",
    "import PyPDF2\n",
    "\n",
    "external = '..\\\\data\\\\external\\\\'\n",
    "interim = '..\\\\data\\\\interim\\\\'\n",
    "\n",
    "encoding_utf='utf-8'\n",
    "encoding_iso='ISO-8859-1'"
   ]
  },
  {
   "cell_type": "markdown",
   "metadata": {},
   "source": [
    "## Funções"
   ]
  },
  {
   "cell_type": "code",
   "execution_count": 30,
   "metadata": {},
   "outputs": [],
   "source": [
    "def write_text_from_pdf(filename):\n",
    "    fileReader = PyPDF2.PdfFileReader(open(external+filename, 'rb'))\n",
    "    page_count = fileReader.getNumPages()\n",
    "    write_file = open(interim+filename.replace('pdf', 'txt').replace('PDF', 'txt'), \"w\", encoding=encoding_iso)\n",
    "    for i in range(page_count):\n",
    "        write_file.write(fileReader.getPage(i).extractText())\n",
    "    write_file.close()"
   ]
  },
  {
   "cell_type": "markdown",
   "metadata": {},
   "source": [
    "## Converter PDF"
   ]
  },
  {
   "cell_type": "code",
   "execution_count": 31,
   "metadata": {},
   "outputs": [
    {
     "name": "stdout",
     "output_type": "stream",
     "text": [
      "Gerando txt... de: Luis Quissak - OPO-v3.pdf\n"
     ]
    }
   ],
   "source": [
    "filenames = [f for f in listdir(external) if isfile(join(external, f)) and f.split('.')[1] in ('pdf', 'PDF')]\n",
    "\n",
    "for filename in filenames:\n",
    "    print('Gerando txt... de:', filename)\n",
    "    write_text_from_pdf(filename)"
   ]
  }
 ],
 "metadata": {
  "interpreter": {
   "hash": "6cf2c8586329e718a68b6be64e034258483a1c6b9276c4c4e6bd8d1d9187641b"
  },
  "kernelspec": {
   "display_name": "Python 3.10.0 64-bit",
   "language": "python",
   "name": "python3"
  },
  "language_info": {
   "codemirror_mode": {
    "name": "ipython",
    "version": 3
   },
   "file_extension": ".py",
   "mimetype": "text/x-python",
   "name": "python",
   "nbconvert_exporter": "python",
   "pygments_lexer": "ipython3",
   "version": "3.10.0"
  },
  "orig_nbformat": 4
 },
 "nbformat": 4,
 "nbformat_minor": 2
}
